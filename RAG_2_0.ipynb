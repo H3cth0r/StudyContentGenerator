{
  "nbformat": 4,
  "nbformat_minor": 0,
  "metadata": {
    "colab": {
      "provenance": []
    },
    "kernelspec": {
      "name": "python3",
      "display_name": "Python 3"
    },
    "language_info": {
      "name": "python"
    }
  },
  "cells": [
    {
      "cell_type": "code",
      "execution_count": null,
      "metadata": {
        "collapsed": true,
        "id": "6ubpGnsz9htN"
      },
      "outputs": [],
      "source": [
        "! pip install langchain-community\n",
        "! pip install chromadb\n",
        "! pip install pypdf\n",
        "! pip install sentence-transformers"
      ]
    },
    {
      "cell_type": "markdown",
      "source": [
        "## Embedder"
      ],
      "metadata": {
        "id": "otJ7DJTv9uJ5"
      }
    },
    {
      "cell_type": "code",
      "source": [
        "from langchain_community.vectorstores import Chroma\n",
        "from langchain_community.embeddings import HuggingFaceEmbeddings\n",
        "from langchain_community.document_loaders import PyPDFLoader\n",
        "from langchain.text_splitter import RecursiveCharacterTextSplitter"
      ],
      "metadata": {
        "id": "WS-s535R9tWV"
      },
      "execution_count": 2,
      "outputs": []
    },
    {
      "cell_type": "code",
      "source": [
        "import os"
      ],
      "metadata": {
        "id": "psrwtvNJPGQ1"
      },
      "execution_count": 3,
      "outputs": []
    },
    {
      "cell_type": "code",
      "source": [
        "class Embedder:\n",
        "  def __init__(self, files_path, db_name, refresh_db=False):\n",
        "    self.files_path = files_path\n",
        "    self.db_name    = db_name\n",
        "    self.docs       = []\n",
        "    self.text_splitter = RecursiveCharacterTextSplitter(chunk_size=1000, chunk_overlap=100)\n",
        "    self.embedding_function = HuggingFaceEmbeddings(model_name=\"sentence-transformers/all-MiniLM-L6-v2\", model_kwargs={'device' : 'cpu'})\n",
        "    if refresh_db: self._load_files()\n",
        "  def _load_files(self):\n",
        "    file_list = os.listdir(self.files_path)\n",
        "    print(file_list)\n",
        "    for f in file_list:\n",
        "      self.docs.extend(PyPDFLoader(self.files_path + f).load())\n",
        "    docs = self.text_splitter.split_documents(self.docs)\n",
        "    vectorstore = Chroma.from_documents(docs, self.embedding_function, persist_directory=self.db_name)"
      ],
      "metadata": {
        "id": "AXKChaxv9pRm"
      },
      "execution_count": 4,
      "outputs": []
    },
    {
      "cell_type": "code",
      "source": [
        "embedder = Embedder(\"./input_files/\", './chroma_db_nccn', True)"
      ],
      "metadata": {
        "colab": {
          "base_uri": "https://localhost:8080/"
        },
        "id": "aQUGqU3ZPUM1",
        "outputId": "7dad2802-cec3-48fc-932c-3cc9d313e2f4"
      },
      "execution_count": 5,
      "outputs": [
        {
          "output_type": "stream",
          "name": "stderr",
          "text": [
            "<ipython-input-4-55ab956e1c7c>:7: LangChainDeprecationWarning: The class `HuggingFaceEmbeddings` was deprecated in LangChain 0.2.2 and will be removed in 1.0. An updated version of the class exists in the langchain-huggingface package and should be used instead. To use it run `pip install -U langchain-huggingface` and import as `from langchain_huggingface import HuggingFaceEmbeddings`.\n",
            "  self.embedding_function = HuggingFaceEmbeddings(model_name=\"sentence-transformers/all-MiniLM-L6-v2\", model_kwargs={'device' : 'cpu'})\n",
            "/usr/local/lib/python3.10/dist-packages/sentence_transformers/cross_encoder/CrossEncoder.py:11: TqdmExperimentalWarning: Using `tqdm.autonotebook.tqdm` in notebook mode. Use `tqdm.tqdm` instead to force console mode (e.g. in jupyter console)\n",
            "  from tqdm.autonotebook import tqdm, trange\n",
            "/usr/local/lib/python3.10/dist-packages/huggingface_hub/utils/_token.py:89: UserWarning: \n",
            "The secret `HF_TOKEN` does not exist in your Colab secrets.\n",
            "To authenticate with the Hugging Face Hub, create a token in your settings tab (https://huggingface.co/settings/tokens), set it as secret in your Google Colab and restart your session.\n",
            "You will be able to reuse this secret in all of your notebooks.\n",
            "Please note that authentication is recommended but still optional to access public models or datasets.\n",
            "  warnings.warn(\n"
          ]
        },
        {
          "output_type": "stream",
          "name": "stdout",
          "text": [
            "['Resume.pdf', 'srs_doc.pdf']\n"
          ]
        }
      ]
    },
    {
      "cell_type": "markdown",
      "source": [
        "## RAG"
      ],
      "metadata": {
        "id": "-O66GAWcaQK6"
      }
    },
    {
      "cell_type": "code",
      "source": [],
      "metadata": {
        "id": "u538m5RlRN31"
      },
      "execution_count": null,
      "outputs": []
    }
  ]
}